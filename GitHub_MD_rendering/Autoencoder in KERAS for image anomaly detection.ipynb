{
 "cells": [
  {
   "cell_type": "markdown",
   "metadata": {},
   "source": [
    "# Introduction\n",
    "<hr style=\"border:2px solid black\"> </hr>"
   ]
  },
  {
   "cell_type": "markdown",
   "metadata": {},
   "source": [
    "\n",
    "**What?** Autoencoder in KERAS for image anomaly detection\n",
    "\n",
""   ]
  },
  {
   "cell_type": "markdown",
   "metadata": {},
   "source": [
    "# What is an autoencoder?"
   ]
  },
  {
   "cell_type": "markdown",
   "metadata": {},
   "source": [
    "\n",
    "- Autoencoder are classified as unsupervised learning.\n",
    "- It learns how to efficiently compress and encode data then learns how to reconstruct the data back from the reduced encoded representation.\n",
    "- The reconstruction is not perfect but very close to the original input as possible.\n",
    "- **By design**, reduces data dimensions by learning how to ignore the noise in the data.\n",
    "- When we force a model to become an identity function (read **repruce** the input), we are forcing it to store all of the data’s relevant features in a compressed representation so that there is enough information in that compressed form such that the model can ‘accurately’ reconstruct it. \n",
    "- Autoencoders may be thought of as being a special case of **feedforward networks** and may be trained with all the same techniques, typically minibatch gradient and back-propagation.\n",
    "- However, the architecture for autoencoders can vary between a simple FeedForward network, LSTM network or Convolutional Neural Network depending. \n",
    "\n",
""   ]
  },
  {
   "attachments": {
    "image.png": {
     "image/png": "[encoded data removed]"
    }
   },
   "cell_type": "markdown",
   "metadata": {},
   "source": [
    "![image.png](attachment:image.png)"
   ]
  },
  {
   "cell_type": "markdown",
   "metadata": {},
   "source": [
    "# Goal?"
   ]
  },
  {
   "cell_type": "markdown",
   "metadata": {},
   "source": [
    "\n",
    "- One of the application there are used for is anomaly detection.\n",
    "- If you have correlated input data, the autoencoder method will work very well because the encoding operation relies on the correlated features to compress the data.\n",
    "\n",
""   ]
  },
  {
   "cell_type": "markdown",
   "metadata": {},
   "source": [
    "# Import modules"
   ]
  },
  {
   "cell_type": "code",
   "execution_count": 24,
   "metadata": {},
   "outputs": [],
   "source": [
    "import numpy as np\n",
    "import keras\n",
    "from keras.datasets import mnist\n",
    "from keras.models import Sequential, Model\n",
    "from keras.layers import Dense, Input\n",
    "from keras import optimizers\n",
    "from keras.optimizers import Adam\n",
    "from keras.preprocessing import image\n",
    "from IPython.display import Image"
   ]
  },
  {
   "cell_type": "markdown",
   "metadata": {},
   "source": [
    "# Import dataset"
   ]
  },
  {
   "cell_type": "markdown",
   "metadata": {},
   "source": [
    "\n",
    "- We'll used the MNIST dataset\n",
    "\n",
""   ]
  },
  {
   "cell_type": "code",
   "execution_count": 2,
   "metadata": {},
   "outputs": [],
   "source": [
    "(x_train, y_train), (x_test, y_test) = mnist.load_data()\n",
    "train_x = x_train.reshape(60000, 784) / 255\n",
    "val_x = x_test.reshape(10000, 784) / 255"
   ]
  },
  {
   "cell_type": "markdown",
   "metadata": {},
   "source": [
    "# Building an autoencoder"
   ]
  },
  {
   "cell_type": "markdown",
   "metadata": {},
   "source": [
    "\n",
    "- The autoencoder will be a simple FeedForward NN with 6 layers\n",
    "\n",
""   ]
  },
  {
   "cell_type": "code",
   "execution_count": 5,
   "metadata": {},
   "outputs": [],
   "source": [
    "autoencoder = Sequential()\n",
    "autoencoder.add(Dense(512,  activation = 'elu', input_shape = (784,)))\n",
    "autoencoder.add(Dense(128,  activation = 'elu'))\n",
    "autoencoder.add(Dense(10,   activation = 'linear', name= \"bottleneck\"))\n",
    "autoencoder.add(Dense(128,  activation = 'elu'))\n",
    "autoencoder.add(Dense(512,  activation = 'elu'))\n",
    "autoencoder.add(Dense(784,  activation = 'sigmoid'))\n",
    "autoencoder.compile(loss = 'mean_squared_error', optimizer = Adam())"
   ]
  },
  {
   "cell_type": "code",
   "execution_count": 16,
   "metadata": {},
   "outputs": [
    {
     "data": {
      "text/plain": [
       "[<keras.layers.core.Dense at 0x1088b3f70>,\n",
       " <keras.layers.core.Dense at 0x1088b3ac0>,\n",
       " <keras.layers.core.Dense at 0x14cb0cbe0>,\n",
       " <keras.layers.core.Dense at 0x1676444c0>,\n",
       " <keras.layers.core.Dense at 0x167b1aac0>,\n",
       " <keras.layers.core.Dense at 0x167b1aaf0>]"
      ]
     },
     "execution_count": 16,
     "metadata": {},
     "output_type": "execute_result"
    }
   ],
   "source": [
    "#dir(autoencoder)\n",
    "autoencoder.layers"
   ]
  },
  {
   "cell_type": "code",
   "execution_count": 6,
   "metadata": {},
   "outputs": [
    {
     "name": "stdout",
     "output_type": "stream",
     "text": [
      "Epoch 1/10\n",
      "59/59 [==============================] - 13s 40ms/step - loss: 0.1088 - val_loss: 0.0500\n",
      "Epoch 2/10\n",
      "59/59 [==============================] - 2s 34ms/step - loss: 0.0464 - val_loss: 0.0370\n",
      "Epoch 3/10\n",
      "59/59 [==============================] - 2s 35ms/step - loss: 0.0356 - val_loss: 0.0298\n",
      "Epoch 4/10\n",
      "59/59 [==============================] - 2s 34ms/step - loss: 0.0295 - val_loss: 0.0264\n",
      "Epoch 5/10\n",
      "59/59 [==============================] - 2s 35ms/step - loss: 0.0262 - val_loss: 0.0242\n",
      "Epoch 6/10\n",
      "59/59 [==============================] - 2s 34ms/step - loss: 0.0243 - val_loss: 0.0227\n",
      "Epoch 7/10\n",
      "59/59 [==============================] - 2s 35ms/step - loss: 0.0228 - val_loss: 0.0215\n",
      "Epoch 8/10\n",
      "59/59 [==============================] - 2s 35ms/step - loss: 0.0216 - val_loss: 0.0207\n",
      "Epoch 9/10\n",
      "59/59 [==============================] - 2s 33ms/step - loss: 0.0207 - val_loss: 0.0199\n",
      "Epoch 10/10\n",
      "59/59 [==============================] - 2s 34ms/step - loss: 0.0200 - val_loss: 0.0193\n"
     ]
    }
   ],
   "source": [
    "trained_model = autoencoder.fit(train_x, train_x, batch_size=1024, epochs=10, verbose=1, validation_data=(val_x, val_x))\n",
    "encoder = Model(autoencoder.input, autoencoder.get_layer('bottleneck').output)\n",
    "# Bottleneck representation\n",
    "encoded_data = encoder.predict(train_x)  \n",
    "# Reconstruction\n",
    "decoded_output = autoencoder.predict(train_x)        \n",
    "encoding_dim = 10"
   ]
  },
  {
   "cell_type": "markdown",
   "metadata": {},
   "source": [
    "\n",
    "- If I pass any normal image from the MNIST dataset, the reconstruction loss will be very low (< 0.02).\n",
    "- **However,** if I tried to pass any other different image (outlier or anomaly), we will get a high reconstruction loss value because the network failed to reconstruct the image/input that is considered an anomaly.\n",
    "- Please note how we have re-used the layers by passing this IDs: -1, -2, -3\n",
    "\n",
""   ]
  },
  {
   "cell_type": "code",
   "execution_count": 17,
   "metadata": {},
   "outputs": [],
   "source": [
    "# return the decoder\n",
    "encoded_input = Input(shape=(encoding_dim,))\n",
    "decoder = autoencoder.layers[-3](encoded_input)\n",
    "decoder = autoencoder.layers[-2](decoder)\n",
    "decoder = autoencoder.layers[-1](decoder)\n",
    "decoder = Model(encoded_input, decoder)"
   ]
  },
  {
   "cell_type": "markdown",
   "metadata": {},
   "source": [
    "# Inference"
   ]
  },
  {
   "cell_type": "code",
   "execution_count": null,
   "metadata": {},
   "outputs": [],
   "source": [
    "\n",
    "- We are going to use a test.jpg imagine that we know does not belong to the MNIST dataset.\n",
    "- We expect the reconstruction to be very high and this is indeed the case.\n",
    "\n",
""   ]
  },
  {
   "cell_type": "code",
   "execution_count": 18,
   "metadata": {},
   "outputs": [
    {
     "name": "stdout",
     "output_type": "stream",
     "text": [
      "Autoencoder in KERAS.ipynb test.jpg\r\n"
     ]
    }
   ],
   "source": [
    "!ls"
   ]
  },
  {
   "cell_type": "code",
   "execution_count": 23,
   "metadata": {},
   "outputs": [
    {
     "data": {
      "image/jpeg": "[encoded data removed]",
      "text/plain": [
       "<IPython.core.display.Image object>"
      ]
     },
     "execution_count": 23,
     "metadata": {},
     "output_type": "execute_result"
    }
   ],
   "source": [
    "# The test (outliers) image\n",
    "Image(filename='./test.jpg') "
   ]
  },
  {
   "cell_type": "code",
   "execution_count": 20,
   "metadata": {},
   "outputs": [
    {
     "name": "stdout",
     "output_type": "stream",
     "text": [
      "[6214.5557]\n"
     ]
    }
   ],
   "source": [
    "%matplotlib inline\n",
    "img = image.load_img(\"./test.jpg\", target_size=(28, 28), color_mode = \"grayscale\")\n",
    "input_img = image.img_to_array(img)\n",
    "\n",
    "inputs = input_img.reshape(1,784)\n",
    "target_data = autoencoder.predict(inputs)\n",
    "dist = np.linalg.norm(inputs - target_data, axis=-1)\n",
    "print(dist)"
   ]
  },
  {
   "cell_type": "markdown",
   "metadata": {},
   "source": [
    "# References\n",
    "<hr style=\"border:2px solid black\"> </hr>"
   ]
  },
  {
   "cell_type": "markdown",
   "metadata": {},
   "source": [
    "\n",
    "- https://towardsdatascience.com/auto-encoder-what-is-it-and-what-is-it-used-for-part-1-3e5c6f017726\n",
    "- https://towardsdatascience.com/understanding-latent-space-in-machine-learning-de5a7c687d8d \n",
    "- http://www.deeplearningbook.org/contents/autoencoders.html \n",
    "\n",
""   ]
  },
  {
   "cell_type": "code",
   "execution_count": null,
   "metadata": {},
   "outputs": [],
   "source": []
  }
 ],
 "metadata": {
  "hide_input": false,
  "kernelspec": {
   "display_name": "trainingAI",
   "language": "python",
   "name": "trainingai"
  },
  "language_info": {
   "codemirror_mode": {
    "name": "ipython",
    "version": 3
   },
   "file_extension": ".py",
   "mimetype": "text/x-python",
   "name": "python",
   "nbconvert_exporter": "python",
   "pygments_lexer": "ipython3",
   "version": "3.8.5"
  }
 },
 "nbformat": 4,
 "nbformat_minor": 2
}
